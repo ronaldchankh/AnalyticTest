{
 "cells": [
  {
   "cell_type": "code",
   "execution_count": 1,
   "metadata": {
    "collapsed": false
   },
   "outputs": [
    {
     "name": "stdout",
     "output_type": "stream",
     "text": [
      "Checkpoint4\n",
      "Checkpoint5\n",
      "<class 'pyspark.conf.SparkConf'>\n",
      "[(u'spark.app.name', u'BDD-Shell'), (u'spark.yarn.jar', u'local:///home/bdd/Oracle/Middleware/BDD-1.3.2.35.1091/common/bdd-shell/lib/spark-assembly-1.6.0-hadoop2.6.0.jar'), (u'spark.executor.memory', u'1g'), (u'spark.executor.instances', u'2'), (u'spark.master', u'yarn-client'), (u'spark.executor.cores', u'1'), (u'spark.submit.deployMode', u'client'), (u'spark.driver.memory', u'1g'), (u'spark.driver.cores', u'1')]\n",
      "Checkpoint6\n",
      "Checkpoint7\n",
      "Checkpoint10\n",
      "Checkpoint11\n"
     ]
    }
   ],
   "source": [
    "execfile('ipython/00-bdd-shell-init.py')"
   ]
  },
  {
   "cell_type": "code",
   "execution_count": 2,
   "metadata": {
    "collapsed": false
   },
   "outputs": [],
   "source": [
    "import pandas as pd\n",
    "import numpy as np\n",
    "import matplotlib.pylab as plt\n",
    "get_ipython().magic('matplotlib inline')\n",
    "from matplotlib.pylab import rcParams\n",
    "rcParams['figure.figsize'] = 15, 6\n",
    "from statsmodels.tsa.arima_model import ARIMA\n",
    "from statsmodels.tsa.arima_model import _arma_predict_out_of_sample\n",
    "from statsmodels.tsa.stattools import acf, pacf, adfuller\n",
    "from sklearn.metrics import mean_absolute_error\n",
    "from sklearn.metrics import mean_squared_error\n",
    "from statsmodels.tsa.stattools import acf, pacf"
   ]
  },
  {
   "cell_type": "code",
   "execution_count": 3,
   "metadata": {
    "collapsed": false
   },
   "outputs": [
    {
     "data": {
      "text/plain": [
       "36"
      ]
     },
     "execution_count": 3,
     "metadata": {},
     "output_type": "execute_result"
    }
   ],
   "source": [
    "dss = bc.datasets()\n",
    "dss.count"
   ]
  },
  {
   "cell_type": "code",
   "execution_count": 4,
   "metadata": {
    "collapsed": false
   },
   "outputs": [
    {
     "name": "stdout",
     "output_type": "stream",
     "text": [
      "\n",
      "20161114SFT\tdefault_edp_6ad66d8f-bbdd-4793-b337-5e2cf041e60a\tdefault_edp_6ad66d8f-bbdd-4793-b337-5e2cf041e60a\tHive\tdefault.20161114sft\n",
      "\n",
      "Test BDD Small\tdefault_edp_19fd2466-c249-4689-9cf0-4ce140de78a9\tdefault_edp_19fd2466-c249-4689-9cf0-4ce140de78a9\tHive\tdefault.test_bdd_small_3\n",
      "\n",
      "Test BDD Small 5\tdefault_edp_9fff1c6d-3a0e-4b9d-8870-265a1f750282\tdefault_edp_9fff1c6d-3a0e-4b9d-8870-265a1f750282\tHive\tdefault.test_bdd_small_5\n",
      "\n",
      "SA_ALLOCATION_LINE\tdefault_edp_8e54b84d-e55e-4e1c-a1b1-aa168e6ea5cd\tdefault_edp_8e54b84d-e55e-4e1c-a1b1-aa168e6ea5cd\tHive\tdefault.sa_allocation_line\n",
      "\n",
      "GSP_OOCL_CALENDAR\tdefault_edp_22982791-8157-4ae0-bc4c-eb7925818798\tdefault_edp_22982791-8157-4ae0-bc4c-eb7925818798\tHive\tdefault.gsp_oocl_calendar\n",
      "\n",
      "SWAT_OPZONE_LAT_LON\tdefault_edp_e4b09f41-ac0e-4602-86c7-0f04c7653d40\tdefault_edp_e4b09f41-ac0e-4602-86c7-0f04c7653d40\tHive\tdefault.swat_opzone_lat_lon\n",
      "\n",
      "20161114SFT\tdefault_edp_a588a16e-3b8f-41dd-aa69-63112bae2293\tdefault_edp_a588a16e-3b8f-41dd-aa69-63112bae2293\tHive\tdefault.20161114sft\n",
      "\n",
      "MTRLS_MTRTN\tdefault_edp_dec74e08-a3c1-47a5-bafb-8fa8dfdadd6c\tdefault_edp_dec74e08-a3c1-47a5-bafb-8fa8dfdadd6c\tHive\tdefault.mtrls_mtrtn\n",
      "\n",
      "ART_NON_IRIS4\tdefault_edp_7b0ce003-5f9a-4ca9-a21e-f4b56515620b\tdefault_edp_7b0ce003-5f9a-4ca9-a21e-f4b56515620b\tHive\tdefault.art_non_iris4\n",
      "\n",
      "20161114SFT-Mty\tdefault_edp_b697816c-78f3-46f9-83d4-7d291c174fff\tdefault_edp_b697816c-78f3-46f9-83d4-7d291c174fff\tHive\tdefault.20161114sft_mty\n",
      "\n",
      "CMN_TRANSPORT_MODE_NAME\tdefault_edp_2ba43f8d-538f-491d-b985-c524236296fb\tdefault_edp_2ba43f8d-538f-491d-b985-c524236296fb\tHive\tdefault.cmn_transport_mode_name\n",
      "\n",
      "EEC_EVENT_HIST_2016\tdefault_edp_9a16ab8d-312e-41c7-935a-3829d1b97fb9\tdefault_edp_9a16ab8d-312e-41c7-935a-3829d1b97fb9\tHive\tdefault.eec_event_hist_2016\n",
      "\n",
      "EEC_EVENT_TYPE\tdefault_edp_7c9f431c-f322-4449-8ac0-d13f7c7f7829\tdefault_edp_7c9f431c-f322-4449-8ac0-d13f7c7f7829\tHive\tdefault.eec_event_type\n",
      "\n",
      "CMN_TRANSPORT_MODE_NAME\tdefault_edp_88c55a25-3060-4400-a786-89e1ed2e4710\tdefault_edp_88c55a25-3060-4400-a786-89e1ed2e4710\tHive\tdefault.cmn_transport_mode_name\n",
      "\n",
      "arima_zhk_40gp_mtrtn_2\tedp_cli_edp_d43762df-f268-4844-ba66-39089da3a224\tedp_cli_edp_d43762df-f268-4844-ba66-39089da3a224\tHive\tdefault.arima_zhk_40gp_mtrtn_2\n",
      "\n",
      "EQM_INV_HIST_SNAPSHOT\tdefault_edp_d278b08a-8ee6-410f-a1f6-c0d27d9f710c\tdefault_edp_d278b08a-8ee6-410f-a1f6-c0d27d9f710c\tHive\tdefault.eqm_inv_hist_snapshot\n",
      "\n",
      "chat_history\tdefault_edp_ecb4e9a8-8f0a-4546-9595-6a56116d165e\tdefault_edp_ecb4e9a8-8f0a-4546-9595-6a56116d165e\tHive\tdefault.chat_history\n",
      "\n",
      "ART_IRIS4\tdefault_edp_82626fe6-3b06-4509-b46a-113fd15153a8\tdefault_edp_82626fe6-3b06-4509-b46a-113fd15153a8\tHive\tdefault.art_iris4\n",
      "\n",
      "CMN_TANSPORT_MODE_NAME_BDD\tdefault_edp_72cc4484-565a-481e-b37b-a63bcdebf365\tdefault_edp_72cc4484-565a-481e-b37b-a63bcdebf365\tHive\tdefault.cmn_tansport_mode_name_bdd\n",
      "\n",
      "s1_opzone\tdefault_edp_0997225b-b9e7-4aea-a88f-0ce77b21ddb7\tdefault_edp_0997225b-b9e7-4aea-a88f-0ce77b21ddb7\tHive\tdefault.s1_opzone\n",
      "\n",
      "CMN_TRANSPORT_MODE_NAME\trefreshed_edp_e9567665-b6f4-4e81-a0d5-d9e65b9790d5\trefreshed_edp_e9567665-b6f4-4e81-a0d5-d9e65b9790d5\tHive\tdefault.cmn_transport_mode_name\n",
      "\n",
      "EEC_EVENT_HIST_2016\tdefault_edp_45acbe3f-c30a-4c39-8334-a4e8e28de38b\tdefault_edp_45acbe3f-c30a-4c39-8334-a4e8e28de38b\tHive\tdefault.eec_event_hist_2016\n",
      "\n",
      "20161114SFTjoinTMIS\tdefault_edp_e81c6aeb-a6b7-43c4-86c0-8380411b4f91\tdefault_edp_e81c6aeb-a6b7-43c4-86c0-8380411b4f91\tHive\tdefault.20161114sftjointmis\n",
      "\n",
      "chat_history\tdefault_edp_80222d49-7d2a-4ad5-814f-5946de263d6e\tdefault_edp_80222d49-7d2a-4ad5-814f-5946de263d6e\tHive\tdefault.chat_history\n",
      "\n",
      "EQM_INV_HIST_SNAPSHOT\tdefault_edp_b5ca8f7e-2310-4f73-948c-5bdf851cabe1\tdefault_edp_b5ca8f7e-2310-4f73-948c-5bdf851cabe1\tHive\tdefault.eqm_inv_hist_snapshot\n",
      "\n",
      "EEC_EVENT_HIST_2016\tdefault_edp_a3b88d32-b720-4007-8a49-16ecb81ea549\tdefault_edp_a3b88d32-b720-4007-8a49-16ecb81ea549\tHive\tdefault.eec_event_hist_2016\n",
      "\n",
      "11\tdefault_edp_0f6b3d4e-58c0-4726-b665-f35448b999af\tdefault_edp_0f6b3d4e-58c0-4726-b665-f35448b999af\tHive\tdefault.1_2\n",
      "\n",
      "12\tdefault_edp_edbfbe24-f162-4af6-abc7-58b701133a8c\tdefault_edp_edbfbe24-f162-4af6-abc7-58b701133a8c\tHive\tdefault.1_3\n",
      "\n",
      "EQM_INV_HIST_SNAPSHOT\tdefault_edp_3d1ef8f6-cc67-4451-b4cd-54eaebfa3440\tdefault_edp_3d1ef8f6-cc67-4451-b4cd-54eaebfa3440\tHive\tdefault.eqm_inv_hist_snapshot\n",
      "\n",
      "GSP_OOCL_CALENDAR\tdefault_edp_46f3a749-fd74-4b45-ac24-83ce9c8c7686\tdefault_edp_46f3a749-fd74-4b45-ac24-83ce9c8c7686\tHive\tdefault.gsp_oocl_calendar\n",
      "\n",
      "GSP_GEO_FLATTEN_LOCATION\tdefault_edp_d3dd12c9-4aeb-4ca5-824f-dec98fef9cde\tdefault_edp_d3dd12c9-4aeb-4ca5-824f-dec98fef9cde\tHive\tdefault.gsp_geo_flatten_location\n",
      "\n",
      "201640201652TMIS_Export Worksheet\tdefault_edp_df942dc1-39a4-48fa-aa9b-8a628f2079b2\tdefault_edp_df942dc1-39a4-48fa-aa9b-8a628f2079b2\tHive\tdefault.201640201652tmis_export_worksheet\n",
      "\n",
      "Test BDD Small\tdefault_edp_3347bbcd-0bcf-4bdc-a197-1ffbece5b2e0\tdefault_edp_3347bbcd-0bcf-4bdc-a197-1ffbece5b2e0\tHive\tdefault.test_bdd_small_1\n",
      "\n",
      "20161114SFTjoinTMIS\tdefault_edp_4067bca4-281d-4803-aebe-08d6fe08243f\tdefault_edp_4067bca4-281d-4803-aebe-08d6fe08243f\tHive\tdefault.20161114sftjointmis\n",
      "\n",
      "20161114SFT\tdefault_edp_37fb69a8-fc99-44e4-b623-4aa1dc0b4d32\tdefault_edp_37fb69a8-fc99-44e4-b623-4aa1dc0b4d32\tHive\tdefault.20161114sft\n",
      "\n",
      "Test BDD\tedp_cli_edp_19bef96a-eecb-487c-ae22-8eb70908ab7a\tedp_cli_edp_19bef96a-eecb-487c-ae22-8eb70908ab7a\tHive\tdefault.test_bdd\n"
     ]
    }
   ],
   "source": [
    "for ds in dss:\n",
    "    print ds"
   ]
  },
  {
   "cell_type": "code",
   "execution_count": 5,
   "metadata": {
    "collapsed": false
   },
   "outputs": [],
   "source": [
    "# Load Requested Opzone List\n",
    "\n",
    "ds_opzone=dss.dataset('default_edp_0997225b-b9e7-4aea-a88f-0ce77b21ddb7')\n",
    "#ds.properties()\n",
    "\n",
    "# Data source to Spark DataFrame to Pandas DataFrame\n",
    "df_opzone = ds_opzone.to_spark()\n",
    "pdf_opzone = df_opzone.toPandas()\n",
    "\n",
    "# Convert to array\n",
    "#pdf_opzone = pdf_opzone[pdf_opzone.opzone_cde != 'ZHJ']\n",
    "pdf_opzone = pdf_opzone[pdf_opzone.opzone_cde == 'ZHK']\n",
    "opzones_list_tmp = pdf_opzone[['opzone_cde']]\n",
    "opzones_list = opzones_list_tmp['opzone_cde'] \n"
   ]
  },
  {
   "cell_type": "code",
   "execution_count": 6,
   "metadata": {
    "collapsed": false
   },
   "outputs": [],
   "source": [
    "# Load MT_RLS and MT_RTN Actual List\n",
    "\n",
    "ds_mt=dss.dataset('default_edp_dec74e08-a3c1-47a5-bafb-8fa8dfdadd6c')\n",
    "#ds.properties()\n",
    "\n",
    "# Data source to Spark DataFrame to Pandas DataFrame\n",
    "df_mt = ds_mt.to_spark()\n",
    "pdf_mt = df_mt.toPandas()"
   ]
  },
  {
   "cell_type": "code",
   "execution_count": 7,
   "metadata": {
    "collapsed": true
   },
   "outputs": [],
   "source": [
    "import datetime\n",
    "def date_convert_fn(x):\n",
    "    return datetime.datetime.fromtimestamp(x/1000.0).strftime('%Y-%m-%d')\n",
    "\n",
    "pdf_mt['date'] = pdf_mt.apply(lambda row: date_convert_fn(row['date']), axis=1)"
   ]
  },
  {
   "cell_type": "code",
   "execution_count": 8,
   "metadata": {
    "collapsed": false
   },
   "outputs": [
    {
     "data": {
      "text/html": [
       "<div>\n",
       "<table border=\"1\" class=\"dataframe\">\n",
       "  <thead>\n",
       "    <tr style=\"text-align: right;\">\n",
       "      <th></th>\n",
       "      <th>PRIMARY_KEY</th>\n",
       "      <th>eqp_size_type</th>\n",
       "      <th>mt_rls</th>\n",
       "      <th>mt_rtn</th>\n",
       "      <th>opzone_cde</th>\n",
       "    </tr>\n",
       "    <tr>\n",
       "      <th>date</th>\n",
       "      <th></th>\n",
       "      <th></th>\n",
       "      <th></th>\n",
       "      <th></th>\n",
       "      <th></th>\n",
       "    </tr>\n",
       "  </thead>\n",
       "  <tbody>\n",
       "    <tr>\n",
       "      <th>2011-12-31</th>\n",
       "      <td>0-0-0</td>\n",
       "      <td>20GP</td>\n",
       "      <td>26</td>\n",
       "      <td>12</td>\n",
       "      <td>ZAA</td>\n",
       "    </tr>\n",
       "    <tr>\n",
       "      <th>2012-01-07</th>\n",
       "      <td>0-0-1</td>\n",
       "      <td>20GP</td>\n",
       "      <td>19</td>\n",
       "      <td>3</td>\n",
       "      <td>ZAA</td>\n",
       "    </tr>\n",
       "    <tr>\n",
       "      <th>2012-01-14</th>\n",
       "      <td>0-0-2</td>\n",
       "      <td>20GP</td>\n",
       "      <td>13</td>\n",
       "      <td>7</td>\n",
       "      <td>ZAA</td>\n",
       "    </tr>\n",
       "    <tr>\n",
       "      <th>2012-01-21</th>\n",
       "      <td>0-0-3</td>\n",
       "      <td>20GP</td>\n",
       "      <td>10</td>\n",
       "      <td>13</td>\n",
       "      <td>ZAA</td>\n",
       "    </tr>\n",
       "    <tr>\n",
       "      <th>2012-01-28</th>\n",
       "      <td>0-0-4</td>\n",
       "      <td>20GP</td>\n",
       "      <td>43</td>\n",
       "      <td>7</td>\n",
       "      <td>ZAA</td>\n",
       "    </tr>\n",
       "  </tbody>\n",
       "</table>\n",
       "</div>"
      ],
      "text/plain": [
       "           PRIMARY_KEY eqp_size_type  mt_rls  mt_rtn opzone_cde\n",
       "date                                                           \n",
       "2011-12-31       0-0-0          20GP      26      12        ZAA\n",
       "2012-01-07       0-0-1          20GP      19       3        ZAA\n",
       "2012-01-14       0-0-2          20GP      13       7        ZAA\n",
       "2012-01-21       0-0-3          20GP      10      13        ZAA\n",
       "2012-01-28       0-0-4          20GP      43       7        ZAA"
      ]
     },
     "execution_count": 8,
     "metadata": {},
     "output_type": "execute_result"
    }
   ],
   "source": [
    "pdf_mt.set_index(keys=['date'], drop=True,inplace=True)\n",
    "pdf_mt.index=pd.to_datetime(pdf_mt.index)\n",
    "pdf_mt.head(5)"
   ]
  },
  {
   "cell_type": "code",
   "execution_count": 9,
   "metadata": {
    "collapsed": true
   },
   "outputs": [],
   "source": [
    "# ARIMA Time Series\n",
    "for opzone in opzones_list:\n",
    "    sizetype = '40GP'\n",
    "    df = pdf_mt[ (pdf_mt.opzone_cde==opzone) & (pdf_mt.eqp_size_type == sizetype) ]\n",
    "    df_RLS = df[['mt_rls']]\n",
    "    df_RTN = df[['mt_rtn']]\n",
    "    df_RLS.sort_index(inplace=True, ascending=True)\n",
    "    df_RTN.sort_index( inplace=True, ascending=True)\n",
    "    df_RLS_TS = df_RLS['mt_rls'] \n",
    "    df_RTN_TS = df_RTN['mt_rtn']\n",
    "    result = pd.DataFrame(columns=('1wk', '2wk', '3wk','4wk', '5wk'))\n",
    "    \n",
    "    for n in range(0,53):\n",
    "        y = df_RTN_TS[0 :-53 + n]\n",
    "\n",
    "        try:\n",
    "            res = ARIMA(y, order=(2, 1, 2)).fit(trend=\"nc\")\n",
    "        except:\n",
    "            try:\n",
    "                res = ARIMA(y, order=(2, 1, 1)).fit(trend=\"nc\")\n",
    "            except:\n",
    "                try:\n",
    "                    res = ARIMA(y, order=(1, 1, 2)).fit(trend=\"nc\")\n",
    "                except:\n",
    "                    try:\n",
    "                        res = ARIMA(y, order=(1, 1, 1)).fit(trend=\"nc\")\n",
    "                    except:\n",
    "                        print \"invertiable error occured.\"\n",
    "    \n",
    "        predication = res.forecast(5)[0]\n",
    "        result.loc[n] = [predication[0],predication[1],predication[2],predication[3],predication[4]] \n",
    "        \n",
    "    result['OPZONE_CODE'] = opzone\n",
    "    result['SIZE_TYPE'] = sizetype\n",
    "    df_temp = pd.DataFrame(df_RTN_TS[-53:])\n",
    "    result.index = df_temp.index\n",
    "    df_temp1 = pd.concat([result, df_temp], axis=1)\n",
    "    df_temp1['2wk'] = df_temp1['2wk'].shift(1)\n",
    "    df_temp1['3wk'] = df_temp1['2wk'].shift(2)\n",
    "    df_temp1['4wk'] = df_temp1['2wk'].shift(3)\n",
    "    df_temp1['5wk'] = df_temp1['2wk'].shift(4)\n",
    "    df_temp1.head\n",
    "    #df_temp1.to_csv('./dataout/export_arima_40GP_MTRTN.csv', mode='a', header=False)"
   ]
  },
  {
   "cell_type": "code",
   "execution_count": 10,
   "metadata": {
    "collapsed": false
   },
   "outputs": [
    {
     "data": {
      "text/html": [
       "<div>\n",
       "<table border=\"1\" class=\"dataframe\">\n",
       "  <thead>\n",
       "    <tr style=\"text-align: right;\">\n",
       "      <th></th>\n",
       "      <th>1wk</th>\n",
       "      <th>2wk</th>\n",
       "      <th>3wk</th>\n",
       "      <th>4wk</th>\n",
       "      <th>5wk</th>\n",
       "      <th>OPZONE_CODE</th>\n",
       "      <th>SIZE_TYPE</th>\n",
       "      <th>mt_rtn</th>\n",
       "    </tr>\n",
       "    <tr>\n",
       "      <th>date</th>\n",
       "      <th></th>\n",
       "      <th></th>\n",
       "      <th></th>\n",
       "      <th></th>\n",
       "      <th></th>\n",
       "      <th></th>\n",
       "      <th></th>\n",
       "      <th></th>\n",
       "    </tr>\n",
       "  </thead>\n",
       "  <tbody>\n",
       "    <tr>\n",
       "      <th>2015-09-26</th>\n",
       "      <td>337.748480</td>\n",
       "      <td>NaN</td>\n",
       "      <td>NaN</td>\n",
       "      <td>NaN</td>\n",
       "      <td>NaN</td>\n",
       "      <td>ZHK</td>\n",
       "      <td>40GP</td>\n",
       "      <td>253</td>\n",
       "    </tr>\n",
       "    <tr>\n",
       "      <th>2015-10-03</th>\n",
       "      <td>325.323770</td>\n",
       "      <td>339.276860</td>\n",
       "      <td>NaN</td>\n",
       "      <td>NaN</td>\n",
       "      <td>NaN</td>\n",
       "      <td>ZHK</td>\n",
       "      <td>40GP</td>\n",
       "      <td>324</td>\n",
       "    </tr>\n",
       "    <tr>\n",
       "      <th>2015-10-10</th>\n",
       "      <td>329.124422</td>\n",
       "      <td>329.339095</td>\n",
       "      <td>NaN</td>\n",
       "      <td>NaN</td>\n",
       "      <td>NaN</td>\n",
       "      <td>ZHK</td>\n",
       "      <td>40GP</td>\n",
       "      <td>326</td>\n",
       "    </tr>\n",
       "    <tr>\n",
       "      <th>2015-10-17</th>\n",
       "      <td>323.829777</td>\n",
       "      <td>324.350682</td>\n",
       "      <td>339.276860</td>\n",
       "      <td>NaN</td>\n",
       "      <td>NaN</td>\n",
       "      <td>ZHK</td>\n",
       "      <td>40GP</td>\n",
       "      <td>356</td>\n",
       "    </tr>\n",
       "    <tr>\n",
       "      <th>2015-10-24</th>\n",
       "      <td>326.362056</td>\n",
       "      <td>320.983390</td>\n",
       "      <td>329.339095</td>\n",
       "      <td>339.27686</td>\n",
       "      <td>NaN</td>\n",
       "      <td>ZHK</td>\n",
       "      <td>40GP</td>\n",
       "      <td>268</td>\n",
       "    </tr>\n",
       "  </tbody>\n",
       "</table>\n",
       "</div>"
      ],
      "text/plain": [
       "                   1wk         2wk         3wk        4wk  5wk OPZONE_CODE  \\\n",
       "date                                                                         \n",
       "2015-09-26  337.748480         NaN         NaN        NaN  NaN         ZHK   \n",
       "2015-10-03  325.323770  339.276860         NaN        NaN  NaN         ZHK   \n",
       "2015-10-10  329.124422  329.339095         NaN        NaN  NaN         ZHK   \n",
       "2015-10-17  323.829777  324.350682  339.276860        NaN  NaN         ZHK   \n",
       "2015-10-24  326.362056  320.983390  329.339095  339.27686  NaN         ZHK   \n",
       "\n",
       "           SIZE_TYPE  mt_rtn  \n",
       "date                          \n",
       "2015-09-26      40GP     253  \n",
       "2015-10-03      40GP     324  \n",
       "2015-10-10      40GP     326  \n",
       "2015-10-17      40GP     356  \n",
       "2015-10-24      40GP     268  "
      ]
     },
     "execution_count": 10,
     "metadata": {},
     "output_type": "execute_result"
    }
   ],
   "source": [
    "df_temp1.head(5)"
   ]
  },
  {
   "cell_type": "code",
   "execution_count": 11,
   "metadata": {
    "collapsed": true
   },
   "outputs": [],
   "source": [
    "# Convert the output Pandas DataFrame to Spark DataFrame\n",
    "sdf = sqlContext.createDataFrame(df_temp1)"
   ]
  },
  {
   "cell_type": "code",
   "execution_count": 12,
   "metadata": {
    "collapsed": false
   },
   "outputs": [],
   "source": [
    "# Persist the Spark DataFrame into new Hive table\n",
    "sdf.write.saveAsTable('default.ARIMA_ZHK_40GP_MTRTN_3')"
   ]
  },
  {
   "cell_type": "code",
   "execution_count": 13,
   "metadata": {
    "collapsed": false
   },
   "outputs": [
    {
     "name": "stdout",
     "output_type": "stream",
     "text": [
      "root\n",
      " |-- 1wk: double (nullable = true)\n",
      " |-- 2wk: double (nullable = true)\n",
      " |-- 3wk: double (nullable = true)\n",
      " |-- 4wk: double (nullable = true)\n",
      " |-- 5wk: double (nullable = true)\n",
      " |-- OPZONE_CODE: string (nullable = true)\n",
      " |-- SIZE_TYPE: string (nullable = true)\n",
      " |-- mt_rtn: long (nullable = true)\n",
      "\n"
     ]
    }
   ],
   "source": [
    "sdf.printSchema()"
   ]
  },
  {
   "cell_type": "code",
   "execution_count": 14,
   "metadata": {
    "collapsed": false
   },
   "outputs": [
    {
     "data": {
      "text/plain": [
       "0"
      ]
     },
     "execution_count": 14,
     "metadata": {},
     "output_type": "execute_result"
    }
   ],
   "source": [
    "#import from HIVE to BDD\n",
    "from subprocess import call\n",
    "call([\"/home/bdd/Oracle/Middleware/BDD-1.3.2.35.1091/dataprocessing/edp_cli/data_processing_CLI\", \"-t ARIMA_ZHK_40GP_MTRTN_3\"])"
   ]
  },
  {
   "cell_type": "code",
   "execution_count": null,
   "metadata": {
    "collapsed": true
   },
   "outputs": [],
   "source": []
  }
 ],
 "metadata": {
  "kernelspec": {
   "display_name": "Python 2",
   "language": "python",
   "name": "python2"
  },
  "language_info": {
   "codemirror_mode": {
    "name": "ipython",
    "version": 2
   },
   "file_extension": ".py",
   "mimetype": "text/x-python",
   "name": "python",
   "nbconvert_exporter": "python",
   "pygments_lexer": "ipython2",
   "version": "2.7.11"
  }
 },
 "nbformat": 4,
 "nbformat_minor": 0
}
