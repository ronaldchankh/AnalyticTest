{
 "cells": [
  {
   "cell_type": "code",
   "execution_count": 1,
   "metadata": {
    "collapsed": false,
    "scrolled": false
   },
   "outputs": [],
   "source": [
    "from impala.dbapi import connect\n",
    "from impala.error import (  # noqa\n",
    "    Error, Warning, InterfaceError, DatabaseError, InternalError,\n",
    "    OperationalError, ProgrammingError, IntegrityError, DataError,\n",
    "    NotSupportedError)\n",
    "from impala.util import warn_deprecate, warn_protocol_param\n",
    "from impala.util import as_pandas"
   ]
  },
  {
   "cell_type": "code",
   "execution_count": 2,
   "metadata": {
    "collapsed": false,
    "scrolled": true
   },
   "outputs": [],
   "source": [
    "conn = connect(host='10.222.117.23', port=21050, database='swat', \n",
    "               auth_mechanism='PLAIN', user='swat_appln', password='Sw@tappln')"
   ]
  },
  {
   "cell_type": "code",
   "execution_count": 3,
   "metadata": {
    "collapsed": false
   },
   "outputs": [],
   "source": [
    "cursor = conn.cursor()"
   ]
  },
  {
   "cell_type": "code",
   "execution_count": 4,
   "metadata": {
    "collapsed": false
   },
   "outputs": [],
   "source": [
    "cursor.execute('select * from swat.SWAT_RONALD_TEST LIMIT 10')\n",
    "#print (cursor.description)\n",
    "#results = cursor.fetchall()"
   ]
  },
  {
   "cell_type": "code",
   "execution_count": 5,
   "metadata": {
    "collapsed": false
   },
   "outputs": [
    {
     "data": {
      "text/html": [
       "<div>\n",
       "<table border=\"1\" class=\"dataframe\">\n",
       "  <thead>\n",
       "    <tr style=\"text-align: right;\">\n",
       "      <th></th>\n",
       "      <th>vessel_code</th>\n",
       "      <th>voyage_number</th>\n",
       "      <th>trade_bound</th>\n",
       "      <th>sa_service_teu</th>\n",
       "      <th>sa_weight</th>\n",
       "    </tr>\n",
       "  </thead>\n",
       "  <tbody>\n",
       "    <tr>\n",
       "      <th>0</th>\n",
       "      <td>LMB</td>\n",
       "      <td>059</td>\n",
       "      <td>S</td>\n",
       "      <td>70.00</td>\n",
       "      <td>840.00</td>\n",
       "    </tr>\n",
       "    <tr>\n",
       "      <th>1</th>\n",
       "      <td>LMB</td>\n",
       "      <td>059</td>\n",
       "      <td>S</td>\n",
       "      <td>355.00</td>\n",
       "      <td>4260.00</td>\n",
       "    </tr>\n",
       "    <tr>\n",
       "      <th>2</th>\n",
       "      <td>LMB</td>\n",
       "      <td>059</td>\n",
       "      <td>S</td>\n",
       "      <td>96.00</td>\n",
       "      <td>1152.00</td>\n",
       "    </tr>\n",
       "    <tr>\n",
       "      <th>3</th>\n",
       "      <td>LMB</td>\n",
       "      <td>059</td>\n",
       "      <td>S</td>\n",
       "      <td>25.00</td>\n",
       "      <td>300.00</td>\n",
       "    </tr>\n",
       "    <tr>\n",
       "      <th>4</th>\n",
       "      <td>LMB</td>\n",
       "      <td>059</td>\n",
       "      <td>S</td>\n",
       "      <td>20.00</td>\n",
       "      <td>240.00</td>\n",
       "    </tr>\n",
       "  </tbody>\n",
       "</table>\n",
       "</div>"
      ],
      "text/plain": [
       "  vessel_code voyage_number trade_bound sa_service_teu sa_weight\n",
       "0         LMB           059           S          70.00    840.00\n",
       "1         LMB           059           S         355.00   4260.00\n",
       "2         LMB           059           S          96.00   1152.00\n",
       "3         LMB           059           S          25.00    300.00\n",
       "4         LMB           059           S          20.00    240.00"
      ]
     },
     "execution_count": 5,
     "metadata": {},
     "output_type": "execute_result"
    }
   ],
   "source": [
    "df = as_pandas(cursor)\n",
    "df.head(5)"
   ]
  },
  {
   "cell_type": "code",
   "execution_count": null,
   "metadata": {
    "collapsed": true
   },
   "outputs": [],
   "source": []
  }
 ],
 "metadata": {
  "anaconda-cloud": {},
  "kernelspec": {
   "display_name": "Python [conda root]",
   "language": "python",
   "name": "conda-root-py"
  },
  "language_info": {
   "codemirror_mode": {
    "name": "ipython",
    "version": 3
   },
   "file_extension": ".py",
   "mimetype": "text/x-python",
   "name": "python",
   "nbconvert_exporter": "python",
   "pygments_lexer": "ipython3",
   "version": "3.5.2"
  }
 },
 "nbformat": 4,
 "nbformat_minor": 1
}
