{
 "cells": [
  {
   "cell_type": "code",
   "execution_count": 2,
   "metadata": {
    "collapsed": false
   },
   "outputs": [],
   "source": [
    "import pandas as pd\n",
    "import numpy as np\n",
    "import matplotlib.pylab as plt\n",
    "%matplotlib inline\n",
    "from matplotlib.pylab import rcParams\n",
    "rcParams['figure.figsize'] = 15, 6\n",
    "from sklearn.ensemble import RandomForestRegressor,GradientBoostingRegressor\n",
    "from sklearn.metrics import mean_absolute_error\n",
    "from sklearn.metrics import mean_squared_error"
   ]
  },
  {
   "cell_type": "code",
   "execution_count": 3,
   "metadata": {
    "collapsed": false
   },
   "outputs": [],
   "source": [
    "dateparse = lambda dates: pd.datetime.strptime(dates, '%Y-%m-%d')\n",
    "data = pd.read_csv('./datain/2012-201640.csv', parse_dates=[0], dtype={'DATE': str}, date_parser=dateparse)\n",
    "data.set_index(keys=['DATE'], drop=True,inplace=True)"
   ]
  },
  {
   "cell_type": "code",
   "execution_count": 4,
   "metadata": {
    "collapsed": true
   },
   "outputs": [],
   "source": [
    "ARIMA = pd.read_csv('./datain/ARIMA_RESULT_MTRLS.csv', parse_dates=[0], dtype={'DATE': str}, date_parser=dateparse)\n",
    "ARIMA.set_index(keys=['DATE'], drop=True,inplace=True)\n",
    "ARIMA.rename(columns ={'1wk':'ARIMA1','2wk':'ARIMA2','3wk':'ARIMA3','4wk':'ARIMA4','5wk':'ARIMA5'}, inplace=True)"
   ]
  },
  {
   "cell_type": "code",
   "execution_count": 5,
   "metadata": {
    "collapsed": false
   },
   "outputs": [],
   "source": [
    "CM = pd.read_csv('./datain/CM_RESULT_MTRLS.csv', parse_dates=[0], dtype={'DATE': str}, date_parser=dateparse)\n",
    "CM.set_index(keys=['DATE'], drop=True,inplace=True)"
   ]
  },
  {
   "cell_type": "code",
   "execution_count": 6,
   "metadata": {
    "collapsed": true
   },
   "outputs": [],
   "source": [
    "TEU_DEP = pd.read_csv('./datain/SWAT_MAOLY_DEP_TEU.csv', parse_dates=[0], dtype={'DATE': str}, date_parser=dateparse)\n",
    "TEU_DEP.set_index(keys=['DATE'], drop=True,inplace=True)\n",
    "TEU_DEP.rename(columns ={'CAP_TEU':'CAP'}, inplace=True)"
   ]
  },
  {
   "cell_type": "code",
   "execution_count": 7,
   "metadata": {
    "collapsed": true
   },
   "outputs": [],
   "source": [
    "LCAP_DEP = pd.read_csv('./datain/SWAT_MAOLY_DEP_LCAP.csv', parse_dates=[0], dtype={'DATE': str}, date_parser=dateparse)\n",
    "LCAP_DEP.set_index(keys=['DATE'], drop=True,inplace=True)\n",
    "LCAP_DEP.rename(columns ={'CAP_TEU':'LCAP'}, inplace=True)"
   ]
  },
  {
   "cell_type": "code",
   "execution_count": 8,
   "metadata": {
    "collapsed": true
   },
   "outputs": [],
   "source": [
    "MOCSS_ORIG = pd.read_csv('./datain/SWAT_RONALD_MOCSS_ORIG.csv', parse_dates=[0], dtype={'DATE': str}, date_parser=dateparse)\n",
    "MOCSS_ORIG.set_index(keys=['DATE'], drop=True,inplace=True)"
   ]
  },
  {
   "cell_type": "code",
   "execution_count": 9,
   "metadata": {
    "collapsed": true
   },
   "outputs": [],
   "source": [
    "VCAP_DEP = pd.read_csv('./datain/SWAT_MAOLY_DEP_VCAP.csv', parse_dates=[0], dtype={'DATE': str}, date_parser=dateparse)\n",
    "VCAP_DEP.set_index(keys=['DATE'], drop=True,inplace=True)\n",
    "VCAP_DEP.rename(columns ={'CAP_TEU':'VCAP','CAP_WT':'WCAP'}, inplace=True)"
   ]
  },
  {
   "cell_type": "code",
   "execution_count": 10,
   "metadata": {
    "collapsed": true
   },
   "outputs": [],
   "source": [
    "SA_PORT_PAIR = pd.read_csv('./datain/SWAT_RONALD_SA_PORT_PAIR.csv', parse_dates=[0], dtype={'DATE': str}, date_parser=dateparse)\n",
    "SA_PORT_PAIR.set_index(keys=['DATE'], drop=True,inplace=True)\n",
    "SA_PORT_PAIR.rename(columns ={'SA_TEU':'SA_PP_TEU','SA_WT':'SA_PP_WT'}, inplace=True)"
   ]
  },
  {
   "cell_type": "code",
   "execution_count": 11,
   "metadata": {
    "collapsed": true
   },
   "outputs": [],
   "source": [
    "SA_TCR = pd.read_csv('./datain/SWAT_RONALD_SA_TCR.csv', parse_dates=[0], dtype={'DATE': str}, date_parser=dateparse)\n",
    "SA_TCR.set_index(keys=['DATE'], drop=True,inplace=True)\n",
    "SA_TCR.rename(columns ={'SA_TEU':'SA_TCR_TEU','SA_WT':'SA_TCR_WT'}, inplace=True)"
   ]
  },
  {
   "cell_type": "code",
   "execution_count": 12,
   "metadata": {
    "collapsed": true
   },
   "outputs": [],
   "source": [
    "SHA_INDEX = pd.read_csv('./datain/上海出口集装箱运价指数.csv', parse_dates=[1], dtype={'DATE': str}, date_parser=dateparse, index_col = 0)\n",
    "SHA_INDEX.set_index(keys=['DATE'], drop=True,inplace=True)\n",
    "SHA_INDEX.rename(columns ={'INDEX':'SHA_INDEX'}, inplace=True)"
   ]
  },
  {
   "cell_type": "code",
   "execution_count": 13,
   "metadata": {
    "collapsed": true
   },
   "outputs": [],
   "source": [
    "CN_XINDEX = pd.read_csv('./datain/中国出口集装箱运价指数.csv', parse_dates=[1], dtype={'DATE': str}, date_parser=dateparse, index_col = 0)\n",
    "CN_XINDEX.set_index(keys=['DATE'], drop=True,inplace=True)\n",
    "CN_XINDEX.rename(columns ={'INDEX':'CN_XIDX'}, inplace=True)"
   ]
  },
  {
   "cell_type": "code",
   "execution_count": 14,
   "metadata": {
    "collapsed": true
   },
   "outputs": [],
   "source": [
    "CN_XINDEX2 = pd.read_csv('./datain/中国沿海散货运价指数.csv', parse_dates=[1], dtype={'DATE': str}, date_parser=dateparse, index_col = 0)\n",
    "CN_XINDEX2.set_index(keys=['DATE'], drop=True,inplace=True)\n",
    "CN_XINDEX2.rename(columns ={'INDEX':'CN_XIDX2'}, inplace=True)"
   ]
  },
  {
   "cell_type": "code",
   "execution_count": 15,
   "metadata": {
    "collapsed": true
   },
   "outputs": [],
   "source": [
    "CN_XINDEX3 = pd.read_csv('./datain/中国沿海煤炭运价指数.csv', parse_dates=[1], dtype={'DATE': str}, date_parser=dateparse, index_col = 0)\n",
    "CN_XINDEX3.set_index(keys=['DATE'], drop=True,inplace=True)\n",
    "CN_XINDEX3.rename(columns ={'INDEX':'CN_XIDX3'}, inplace=True)"
   ]
  },
  {
   "cell_type": "code",
   "execution_count": 16,
   "metadata": {
    "collapsed": true
   },
   "outputs": [],
   "source": [
    "BDI = pd.read_csv('./datain/BalticDryIndex.csv', parse_dates=[0], dtype={'DATE': str}, date_parser=dateparse)\n",
    "BDI.set_index(keys=['DATE'], drop=True,inplace=True)"
   ]
  },
  {
   "cell_type": "code",
   "execution_count": 21,
   "metadata": {
    "collapsed": true
   },
   "outputs": [],
   "source": [
    "NQJPJPY = pd.read_csv('./datain/NQJPJPY.csv', parse_dates=[0], dtype={'DATE': str}, date_parser=dateparse)\n",
    "NQJPJPY.set_index(keys=['DATE'], drop=True,inplace=True)"
   ]
  },
  {
   "cell_type": "code",
   "execution_count": 72,
   "metadata": {
    "collapsed": false,
    "scrolled": false
   },
   "outputs": [],
   "source": [
    "result = pd.DataFrame(columns=['OPZONE','SIZETYPE','BOX_AVG','CM_RMSE','ARIMA_RMSE','RF_RMSE','GB_RMSE','CM_MAE','ARIMA_MAE','RF_MAE','GB_MAE'])\n",
    "\n",
    "#all S1 \n",
    "#s1_opzones = ['ZHI','ZKE','ZKW','ZKS','ZYG','ZBI','ZPW','ZKZ','ZHJ','ZSM','ZTG','ZLC','ZMS','ZCE','ZOS','ZSG','ZSH','ZIS','ZNG','ZHF','ZYN','ZKY','ZCC','ZCB','ZBY','ZMV','ZJD','ZDM','ZFZ','ZPU','ZNN','ZBD','ZAU','ZBR','ZOH','ZLG','ZDI','ZSP','ZBK','ZCI','ZDN','ZVK','ZQD','ZJK','ZAZ','ZKB','ZPK','ZKI','ZBW','ZPN','ZHP','ZKH','ZXM','ZTK','ZGU','ZHC','ZPS','ZSB','ZHK','ZYO','ZPP','ZMA','ZTI','ZCT','ZFQ']\n",
    "\n",
    "#CHINA (non-SHA)\n",
    "#s1_opzones = ['ZBI','ZKZ','ZYN','ZFZ','ZNN','ZLG','ZDN','ZQD','ZXM','ZGU','ZTI','ZFQ']\n",
    "#s1_opzones = ['ZSH']\n",
    "\n",
    "#Japan\n",
    "s1_opzones = ['ZHI','ZSM','ZOS','ZNG','ZKB','ZTK','ZYO']\n",
    "\n",
    "#non-CHINA\n",
    "#s1_opzones = ['ZHI','ZKE','ZKW','ZKS','ZYG','ZPW','ZHJ','ZSM','ZTG','ZLC','ZMS','ZCE','ZOS','ZSG','ZIS','ZNG','ZHF','ZKY','ZCC','ZCB','ZBY','ZMV','ZJD','ZDM','ZPU','ZBD','ZAU','ZBR','ZOH','ZDI','ZSP','ZBK','ZCI','ZVK','ZJK','ZAZ','ZKB','ZPK','ZKI','ZBW','ZPN','ZHP','ZKH','ZTK','ZHC','ZPS','ZSB','ZHK','ZYO','ZPP','ZMA','ZCT']\n",
    "\n",
    "\n",
    "for opzone in s1_opzones:\n",
    "    \n",
    "    sizetype = '20GP'\n",
    "    df_teu_dep = TEU_DEP[ (TEU_DEP.OPZONE_CDE==opzone) ]\n",
    "    df_lcap_dep = LCAP_DEP[ (LCAP_DEP.OPZONE_CDE==opzone) ]\n",
    "    df_mocss_orig = MOCSS_ORIG[ (MOCSS_ORIG.OPZONE_CDE==opzone) ]\n",
    "    df_vcap_dep = VCAP_DEP[VCAP_DEP.OPZONE_CDE == opzone]\n",
    "    df_sa_pp = SA_PORT_PAIR[ (SA_PORT_PAIR.OPZONE_CDE==opzone) ]\n",
    "    df_sa_tcr = SA_TCR[ (SA_TCR.OPZONE_CDE==opzone) ]\n",
    "    df_arima = ARIMA[ (ARIMA.OPZONE_CODE==opzone) & (ARIMA.SIZE_TYPE==sizetype) ]\n",
    "    df_cm = CM[ (CM.OPZONE_CDE==opzone) & (CM.SIZE_TYPE==sizetype) ]\n",
    "    \n",
    "    del df_teu_dep['OPZONE_CDE']\n",
    "    del df_lcap_dep['OPZONE_CDE']\n",
    "    del df_vcap_dep['OPZONE_CDE']\n",
    "    del df_mocss_orig['OPZONE_CDE']\n",
    "    del df_sa_pp['OPZONE_CDE']\n",
    "    del df_sa_pp['OOCL_WEEK']\n",
    "    del df_sa_tcr['OPZONE_CDE']\n",
    "    del df_sa_tcr['OOCL_WEEK']\n",
    "    del df_arima['OPZONE_CODE']\n",
    "    del df_arima['SIZE_TYPE']\n",
    "    del df_arima['MT_RLS']\n",
    "    del df_cm['OPZONE_CDE']\n",
    "    del df_cm['SIZE_TYPE']\n",
    "\n",
    "    df = data[ (data.OPZONE_CDE==opzone) & (data.EQP_SIZE_TYPE == sizetype) ]\n",
    "    df_RLS = df[['MT_RLS']]\n",
    "    df_RLS.sort_index(inplace=True, ascending=True)\n",
    "    df_RLS_TS = df_RLS['MT_RLS'] \n",
    "    df = pd.DataFrame(df_RLS_TS)\n",
    "    df = df.join(df_teu_dep, sort=True)\n",
    "    df = df.join(df_lcap_dep, sort=True)\n",
    "    df = df.join(df_mocss_orig, sort=True)\n",
    "    df = df.join(df_vcap_dep, sort=True)\n",
    "    df = df.join(df_sa_pp, sort=True)\n",
    "    df = df.join(df_sa_tcr, sort=True)\n",
    "    df = df.join(SHA_INDEX, sort=True)\n",
    "    df = df.join(CN_XINDEX, sort=True)\n",
    "    df = df.join(CN_XINDEX2, sort=True)\n",
    "    df = df.join(CN_XINDEX3, sort=True)\n",
    "    df = df.join(df_arima, sort=True)\n",
    "    df = df.join(df_cm, sort=True)\n",
    "    df = df.join(BDI, sort=True)\n",
    "    df = df.join(NQJPJPY, sort=True)\n",
    "\n",
    "    df['CAP+1wk'] = df['CAP'].shift(-1)\n",
    "    df['CAP+2wk'] = df['CAP'].shift(-2)\n",
    "    df['CAP+3wk'] = df['CAP'].shift(-3)\n",
    "    df['LCAP+1wk'] = df['LCAP'].shift(-1)\n",
    "    df['LCAP+2wk'] = df['LCAP'].shift(-2)\n",
    "    df['LCAP+3wk'] = df['LCAP'].shift(-3)\n",
    "    df['MOCSS+1wk'] = df['MOCSS'].shift(-1)\n",
    "    df['MOCSS+2wk'] = df['MOCSS'].shift(-2)\n",
    "    df['MOCSS+3wk'] = df['MOCSS'].shift(-3)\n",
    "    df['VCAP+1wk'] = df['VCAP'].shift(-1)\n",
    "    df['VCAP+2wk'] = df['VCAP'].shift(-2)\n",
    "    df['VCAP+3wk'] = df['VCAP'].shift(-3)\n",
    "    df['WCAP+1wk'] = df['WCAP'].shift(-1)\n",
    "    df['WCAP+2wk'] = df['WCAP'].shift(-2)\n",
    "    df['WCAP+3wk'] = df['WCAP'].shift(-3)\n",
    "\n",
    "    df['SA_PP_TEU+1wk'] = df['SA_PP_TEU'].shift(-1)\n",
    "    df['SA_PP_TEU+2wk'] = df['SA_PP_TEU'].shift(-2)\n",
    "    df['SA_PP_TEU+3wk'] = df['SA_PP_TEU'].shift(-3)\n",
    "    df['SA_PP_WT+1wk'] = df['SA_PP_WT'].shift(-1)\n",
    "    df['SA_PP_WT+2wk'] = df['SA_PP_WT'].shift(-2)\n",
    "\n",
    "    df['SA_TCR_TEU+1wk'] = df['SA_TCR_TEU'].shift(-1)\n",
    "    df['SA_TCR_TEU+2wk'] = df['SA_TCR_TEU'].shift(-2)\n",
    "    df['SA_TCR_TEU+3wk'] = df['SA_TCR_TEU'].shift(-3)\n",
    "    df['SA_TCR_WT+1wk'] = df['SA_TCR_WT'].shift(-1)\n",
    "    df['SA_TCR_WT+2wk'] = df['SA_TCR_WT'].shift(-2)\n",
    "\n",
    "    df['SHA_INDEX+1wk'] = df['SHA_INDEX'].shift(-1)\n",
    "    df['SHA_INDEX+2wk'] = df['SHA_INDEX'].shift(-2)\n",
    "    df['SHA_INDEX+3wk'] = df['SHA_INDEX'].shift(-3)\n",
    "    df['SHA_INDEX-1wk'] = df['SHA_INDEX'].shift(1)\n",
    "    df['SHA_INDEX-2wk'] = df['SHA_INDEX'].shift(2)\n",
    "\n",
    "    df['CN_XIDX+1wk'] = df['CN_XIDX'].shift(-1)\n",
    "    df['CN_XIDX+2wk'] = df['CN_XIDX'].shift(-2)\n",
    "    df['CN_XIDX+3wk'] = df['CN_XIDX'].shift(-3)\n",
    "    df['CN_XIDX-1wk'] = df['CN_XIDX'].shift(1)\n",
    "    df['CN_XIDX-2wk'] = df['CN_XIDX'].shift(2)\n",
    "\n",
    "    df['CN_XIDX2+1wk'] = df['CN_XIDX2'].shift(-1)\n",
    "    df['CN_XIDX2+2wk'] = df['CN_XIDX2'].shift(-2)\n",
    "    df['CN_XIDX2+3wk'] = df['CN_XIDX2'].shift(-3)\n",
    "    df['CN_XIDX2-1wk'] = df['CN_XIDX2'].shift(1)\n",
    "    df['CN_XIDX2-2wk'] = df['CN_XIDX2'].shift(2)\n",
    "\n",
    "    df['CN_XIDX3+1wk'] = df['CN_XIDX3'].shift(-1)\n",
    "    df['CN_XIDX3+2wk'] = df['CN_XIDX3'].shift(-2)\n",
    "    df['CN_XIDX3+3wk'] = df['CN_XIDX3'].shift(-3)\n",
    "    df['CN_XIDX3-1wk'] = df['CN_XIDX3'].shift(1)\n",
    "    df['CN_XIDX3-2wk'] = df['CN_XIDX3'].shift(2)\n",
    "\n",
    "    df['BDI-1wk'] = df['BDI'].shift(1)\n",
    "    df['BDI-2wk'] = df['BDI'].shift(2)\n",
    "    df['BDI-3wk'] = df['BDI'].shift(3)\n",
    "    df['BDI-4wk'] = df['BDI'].shift(4)\n",
    "    df['BDI-5wk'] = df['BDI'].shift(5)\n",
    "    df['BDI-6wk'] = df['BDI'].shift(6)\n",
    "    \n",
    "    df['NQJPJPY-1wk'] = df['NQJPJPY'].shift(1)\n",
    "    df['NQJPJPY-2wk'] = df['NQJPJPY'].shift(2)\n",
    "    df['NQJPJPY-3wk'] = df['NQJPJPY'].shift(3)\n",
    "    df['NQJPJPY-4wk'] = df['NQJPJPY'].shift(4)\n",
    "    df['NQJPJPY-5wk'] = df['NQJPJPY'].shift(5)\n",
    "    df['NQJPJPY-6wk'] = df['NQJPJPY'].shift(6)\n",
    "    \n",
    "    df_train = df['2015-05-24':'2016-05-29']\n",
    "    df_test = df['2016-06-05':'2016-09-11']\n",
    "\n",
    "    feature_names = ['MT_RLS','ARIMA1', 'CAP+1wk','LCAP+1wk','MOCSS+1wk','VCAP+1wk','WCAP+1wk','SA_PP_TEU+1wk','SA_PP_WT+1wk',\n",
    "    'SA_TCR_TEU+1wk','SA_TCR_WT+2wk','SHA_INDEX-1wk','CN_XIDX-1wk','CN_XIDX2-1wk','CN_XIDX3-1wk','BDI-1wk','BDI-2wk','BDI-3wk',\n",
    "    'BDI-4wk','BDI-5wk','BDI-6wk','NQJPJPY-1wk','NQJPJPY-2wk','NQJPJPY-3wk','NQJPJPY-4wk','NQJPJPY-5wk','NQJPJPY-6wk' ]\n",
    "    \n",
    "    #feature_names = ['MT_RLS','ARIMA1','SA_TCR_TEU+1wk','WCAP+1wk']\n",
    "\n",
    "    #feature_names = ['MT_RLS','ARIMA1']\n",
    "\n",
    "    #For China\n",
    "    #feature_names = ['MT_RLS','ARIMA1','LCAP+2wk', 'SA_PP_TEU+2wk','SA_TCR_TEU+2wk','SHA_INDEX-1wk','CN_XIDX-1wk','CN_XIDX2-1wk','CN_XIDX3-1wk']\n",
    "    #feature_names = ['MT_RLS','ARIMA1','LCAP+2wk','SA_PP_TEU+2wk','SA_TCR_TEU+2wk','CN_XIDX-1wk','CN_XIDX2-1wk','CN_XIDX3-1wk','BDI-1wk']\n",
    "\n",
    "    #For all\n",
    "    #feature_names = ['MT_RLS','ARIMA1','BDI-1wk','CN_XIDX-1wk','CAP+1wk','SA_PP_WT+1wk']\n",
    "    \n",
    "\n",
    "    df_train = df_train[feature_names]\n",
    "    df_test = df_test[feature_names]\n",
    "\n",
    "    df_train.fillna(0, inplace=True)\n",
    "    df_test.fillna(0, inplace=True)\n",
    "\n",
    "    y_train = df_train['MT_RLS'].values\n",
    "    y_test = df_test['MT_RLS'].values\n",
    "\n",
    "    feature_names.remove('MT_RLS')\n",
    "    X_train = df_train[feature_names].values\n",
    "    X_test = df_test[feature_names].values\n",
    "\n",
    "    rf = RandomForestRegressor(n_estimators=1000, n_jobs=-1, random_state=1, max_features=\"auto\")\n",
    "    rf.fit(X_train, y_train)\n",
    "    y_test_pred =rf.predict(X_test)\n",
    "\n",
    "    rf_rmse = mean_squared_error(y_test, y_test_pred) ** (1/2.0)\n",
    "    rf_mae = mean_absolute_error(y_test, y_test_pred)\n",
    "\n",
    "    gb = GradientBoostingRegressor(n_estimators=1000, max_depth=3, min_samples_split=2, learning_rate=0.1, loss='ls')\n",
    "    gb.fit(X_train, y_train)\n",
    "    y_test_pred =gb.predict(X_test)\n",
    "\n",
    "    gb_rmse = mean_squared_error(y_test, y_test_pred) ** (1/2.0)\n",
    "    gb_mae = mean_absolute_error(y_test, y_test_pred)\n",
    "    \n",
    "    arima_rmse = mean_squared_error(y_test, df_test.ARIMA1) ** (1/2.0)\n",
    "    arima_mae = mean_absolute_error(y_test, df_test.ARIMA1)\n",
    " \n",
    "    df_cm_test = df['2016-06-05':'2016-09-11'].CM1.copy()\n",
    "    df_cm_test.fillna(0, inplace=True)\n",
    "    cm_rmse = mean_squared_error(y_test, df_cm_test) ** (1/2.0)\n",
    "    cm_mae = mean_absolute_error(y_test, df_cm_test)\n",
    "    \n",
    "    result.loc[len(result)] = [opzone,sizetype,np.mean(y_test),cm_rmse,arima_rmse,rf_rmse,gb_rmse,cm_mae,arima_mae,rf_mae,gb_mae]\n",
    "    \n",
    "#result.head(100)"
   ]
  },
  {
   "cell_type": "code",
   "execution_count": 73,
   "metadata": {
    "collapsed": false
   },
   "outputs": [
    {
     "data": {
      "text/html": [
       "<div>\n",
       "<table border=\"1\" class=\"dataframe\">\n",
       "  <thead>\n",
       "    <tr style=\"text-align: right;\">\n",
       "      <th></th>\n",
       "      <th>OPZONE</th>\n",
       "      <th>SIZETYPE</th>\n",
       "      <th>BOX_AVG</th>\n",
       "      <th>CM_RMSE</th>\n",
       "      <th>ARIMA_RMSE</th>\n",
       "      <th>RF_RMSE</th>\n",
       "      <th>GB_RMSE</th>\n",
       "      <th>CM_MAE</th>\n",
       "      <th>ARIMA_MAE</th>\n",
       "      <th>RF_MAE</th>\n",
       "      <th>GB_MAE</th>\n",
       "      <th>ARIMA_PERFORM</th>\n",
       "      <th>RF_PERFORM</th>\n",
       "    </tr>\n",
       "  </thead>\n",
       "  <tbody>\n",
       "    <tr>\n",
       "      <th>0</th>\n",
       "      <td>ZHI</td>\n",
       "      <td>20GP</td>\n",
       "      <td>83.866667</td>\n",
       "      <td>31.307634</td>\n",
       "      <td>22.110679</td>\n",
       "      <td>23.094213</td>\n",
       "      <td>28.824139</td>\n",
       "      <td>23.736667</td>\n",
       "      <td>18.240274</td>\n",
       "      <td>16.923533</td>\n",
       "      <td>19.905908</td>\n",
       "      <td>-0.065537</td>\n",
       "      <td>-0.081238</td>\n",
       "    </tr>\n",
       "    <tr>\n",
       "      <th>1</th>\n",
       "      <td>ZSM</td>\n",
       "      <td>20GP</td>\n",
       "      <td>19.933333</td>\n",
       "      <td>6.582320</td>\n",
       "      <td>4.713212</td>\n",
       "      <td>5.132995</td>\n",
       "      <td>5.816298</td>\n",
       "      <td>5.688000</td>\n",
       "      <td>3.179763</td>\n",
       "      <td>4.404067</td>\n",
       "      <td>5.138476</td>\n",
       "      <td>-0.125831</td>\n",
       "      <td>-0.064411</td>\n",
       "    </tr>\n",
       "    <tr>\n",
       "      <th>2</th>\n",
       "      <td>ZOS</td>\n",
       "      <td>20GP</td>\n",
       "      <td>210.666667</td>\n",
       "      <td>61.288569</td>\n",
       "      <td>24.846114</td>\n",
       "      <td>56.861928</td>\n",
       "      <td>35.661656</td>\n",
       "      <td>55.452000</td>\n",
       "      <td>19.822259</td>\n",
       "      <td>47.356733</td>\n",
       "      <td>30.995226</td>\n",
       "      <td>-0.169129</td>\n",
       "      <td>-0.038427</td>\n",
       "    </tr>\n",
       "    <tr>\n",
       "      <th>3</th>\n",
       "      <td>ZNG</td>\n",
       "      <td>20GP</td>\n",
       "      <td>685.866667</td>\n",
       "      <td>216.969480</td>\n",
       "      <td>150.525158</td>\n",
       "      <td>197.052771</td>\n",
       "      <td>170.466117</td>\n",
       "      <td>182.117333</td>\n",
       "      <td>121.109938</td>\n",
       "      <td>170.826533</td>\n",
       "      <td>147.035069</td>\n",
       "      <td>-0.088949</td>\n",
       "      <td>-0.016462</td>\n",
       "    </tr>\n",
       "    <tr>\n",
       "      <th>4</th>\n",
       "      <td>ZKB</td>\n",
       "      <td>20GP</td>\n",
       "      <td>262.200000</td>\n",
       "      <td>77.296003</td>\n",
       "      <td>50.045026</td>\n",
       "      <td>60.367460</td>\n",
       "      <td>74.773144</td>\n",
       "      <td>63.948667</td>\n",
       "      <td>33.746680</td>\n",
       "      <td>47.892200</td>\n",
       "      <td>61.239913</td>\n",
       "      <td>-0.115187</td>\n",
       "      <td>-0.061237</td>\n",
       "    </tr>\n",
       "    <tr>\n",
       "      <th>5</th>\n",
       "      <td>ZTK</td>\n",
       "      <td>20GP</td>\n",
       "      <td>239.266667</td>\n",
       "      <td>62.782287</td>\n",
       "      <td>44.402868</td>\n",
       "      <td>70.994429</td>\n",
       "      <td>59.106000</td>\n",
       "      <td>51.894667</td>\n",
       "      <td>35.254893</td>\n",
       "      <td>59.904133</td>\n",
       "      <td>51.229544</td>\n",
       "      <td>-0.069545</td>\n",
       "      <td>0.033475</td>\n",
       "    </tr>\n",
       "    <tr>\n",
       "      <th>6</th>\n",
       "      <td>ZYO</td>\n",
       "      <td>20GP</td>\n",
       "      <td>245.866667</td>\n",
       "      <td>85.839332</td>\n",
       "      <td>35.892109</td>\n",
       "      <td>85.530079</td>\n",
       "      <td>110.917274</td>\n",
       "      <td>69.809333</td>\n",
       "      <td>28.101330</td>\n",
       "      <td>68.506733</td>\n",
       "      <td>89.470717</td>\n",
       "      <td>-0.169637</td>\n",
       "      <td>-0.005298</td>\n",
       "    </tr>\n",
       "  </tbody>\n",
       "</table>\n",
       "</div>"
      ],
      "text/plain": [
       "  OPZONE SIZETYPE     BOX_AVG     CM_RMSE  ARIMA_RMSE     RF_RMSE     GB_RMSE  \\\n",
       "0    ZHI     20GP   83.866667   31.307634   22.110679   23.094213   28.824139   \n",
       "1    ZSM     20GP   19.933333    6.582320    4.713212    5.132995    5.816298   \n",
       "2    ZOS     20GP  210.666667   61.288569   24.846114   56.861928   35.661656   \n",
       "3    ZNG     20GP  685.866667  216.969480  150.525158  197.052771  170.466117   \n",
       "4    ZKB     20GP  262.200000   77.296003   50.045026   60.367460   74.773144   \n",
       "5    ZTK     20GP  239.266667   62.782287   44.402868   70.994429   59.106000   \n",
       "6    ZYO     20GP  245.866667   85.839332   35.892109   85.530079  110.917274   \n",
       "\n",
       "       CM_MAE   ARIMA_MAE      RF_MAE      GB_MAE  ARIMA_PERFORM  RF_PERFORM  \n",
       "0   23.736667   18.240274   16.923533   19.905908      -0.065537   -0.081238  \n",
       "1    5.688000    3.179763    4.404067    5.138476      -0.125831   -0.064411  \n",
       "2   55.452000   19.822259   47.356733   30.995226      -0.169129   -0.038427  \n",
       "3  182.117333  121.109938  170.826533  147.035069      -0.088949   -0.016462  \n",
       "4   63.948667   33.746680   47.892200   61.239913      -0.115187   -0.061237  \n",
       "5   51.894667   35.254893   59.904133   51.229544      -0.069545    0.033475  \n",
       "6   69.809333   28.101330   68.506733   89.470717      -0.169637   -0.005298  "
      ]
     },
     "execution_count": 73,
     "metadata": {},
     "output_type": "execute_result"
    }
   ],
   "source": [
    "result['ARIMA_PERFORM'] = (result['ARIMA_MAE']-result['CM_MAE'])/result['BOX_AVG']\n",
    "result['RF_PERFORM'] = (result['RF_MAE']-result['CM_MAE'])/result['BOX_AVG']\n",
    "result.head(100)"
   ]
  },
  {
   "cell_type": "code",
   "execution_count": 74,
   "metadata": {
    "collapsed": false
   },
   "outputs": [
    {
     "name": "stdout",
     "output_type": "stream",
     "text": [
      "452.6466666666667\n",
      "259.45513795872097\n",
      "415.8139333333333\n",
      "1747.6666666666665\n"
     ]
    }
   ],
   "source": [
    "print(np.sum(result.CM_MAE))\n",
    "print(np.sum(result.ARIMA_MAE))\n",
    "print(np.sum(result.RF_MAE))\n",
    "print(np.sum(result.BOX_AVG))"
   ]
  },
  {
   "cell_type": "code",
   "execution_count": 75,
   "metadata": {
    "collapsed": false
   },
   "outputs": [
    {
     "name": "stdout",
     "output_type": "stream",
     "text": [
      "Features importance:\n",
      " 1) NQJPJPY-4wk                    0.187947\n",
      " 2) CN_XIDX2-1wk                   0.152598\n",
      " 3) BDI-6wk                        0.106812\n",
      " 4) NQJPJPY-6wk                    0.078952\n",
      " 5) NQJPJPY-1wk                    0.055155\n",
      " 6) SHA_INDEX-1wk                  0.041772\n",
      " 7) CN_XIDX3-1wk                   0.040195\n",
      " 8) CAP+1wk                        0.037764\n",
      " 9) BDI-1wk                        0.033972\n",
      " 10) WCAP+1wk                       0.028069\n",
      " 11) BDI-5wk                        0.023973\n",
      " 12) ARIMA1                         0.022439\n",
      " 13) NQJPJPY-5wk                    0.021002\n",
      " 14) CN_XIDX-1wk                    0.020275\n",
      " 15) VCAP+1wk                       0.020035\n",
      " 16) NQJPJPY-2wk                    0.019788\n",
      " 17) BDI-4wk                        0.019184\n",
      " 18) LCAP+1wk                       0.018956\n",
      " 19) NQJPJPY-3wk                    0.015609\n",
      " 20) BDI-2wk                        0.014051\n",
      " 21) BDI-3wk                        0.011537\n",
      " 22) SA_TCR_TEU+1wk                 0.010841\n",
      " 23) MOCSS+1wk                      0.009885\n",
      " 24) SA_TCR_WT+2wk                  0.009191\n",
      " 25) SA_PP_WT+1wk                   0.000000\n",
      " 26) SA_PP_TEU+1wk                  0.000000\n"
     ]
    }
   ],
   "source": [
    "importances = rf.feature_importances_ \n",
    "indices = np.argsort(importances)[::-1]\n",
    "print('Features importance:')\n",
    "for f in range( X_train.shape[1]):\n",
    "    print('% 2d) %-*s %f' % (f + 1, 30, feature_names[indices[f]], importances[indices[f]]))"
   ]
  },
  {
   "cell_type": "code",
   "execution_count": null,
   "metadata": {
    "collapsed": true
   },
   "outputs": [],
   "source": []
  },
  {
   "cell_type": "code",
   "execution_count": null,
   "metadata": {
    "collapsed": true
   },
   "outputs": [],
   "source": []
  }
 ],
 "metadata": {
  "anaconda-cloud": {},
  "kernelspec": {
   "display_name": "Python [default]",
   "language": "python",
   "name": "python3"
  },
  "language_info": {
   "codemirror_mode": {
    "name": "ipython",
    "version": 3
   },
   "file_extension": ".py",
   "mimetype": "text/x-python",
   "name": "python",
   "nbconvert_exporter": "python",
   "pygments_lexer": "ipython3",
   "version": "3.5.2"
  }
 },
 "nbformat": 4,
 "nbformat_minor": 0
}
