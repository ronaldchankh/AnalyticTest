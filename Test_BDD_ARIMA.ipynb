{
 "cells": [
  {
   "cell_type": "code",
   "execution_count": 13,
   "metadata": {
    "collapsed": false
   },
   "outputs": [],
   "source": [
    "#help('bdd_sdk')"
   ]
  },
  {
   "cell_type": "code",
   "execution_count": 2,
   "metadata": {
    "collapsed": false
   },
   "outputs": [],
   "source": [
    "execfile('ipython/00-bdd-shell-init.py')"
   ]
  },
  {
   "cell_type": "code",
   "execution_count": 50,
   "metadata": {
    "collapsed": false
   },
   "outputs": [],
   "source": [
    "import pandas as pd\n",
    "import numpy as np\n",
    "import matplotlib.pylab as plt\n",
    "get_ipython().magic('matplotlib inline')\n",
    "from matplotlib.pylab import rcParams\n",
    "rcParams['figure.figsize'] = 15, 6\n",
    "from statsmodels.tsa.arima_model import ARIMA\n",
    "from statsmodels.tsa.arima_model import _arma_predict_out_of_sample\n",
    "from statsmodels.tsa.stattools import acf, pacf, adfuller\n",
    "from sklearn.metrics import mean_absolute_error\n",
    "from sklearn.metrics import mean_squared_error\n",
    "from statsmodels.tsa.stattools import acf, pacf"
   ]
  },
  {
   "cell_type": "code",
   "execution_count": 6,
   "metadata": {
    "collapsed": false
   },
   "outputs": [
    {
     "data": {
      "text/plain": [
       "10"
      ]
     },
     "execution_count": 6,
     "metadata": {},
     "output_type": "execute_result"
    }
   ],
   "source": [
    "dss = bc.datasets()\n",
    "dss.count"
   ]
  },
  {
   "cell_type": "code",
   "execution_count": 7,
   "metadata": {
    "collapsed": false,
    "scrolled": true
   },
   "outputs": [
    {
     "name": "stdout",
     "output_type": "stream",
     "text": [
      "\n",
      "media_demo_customer\tdefault_edp_89c616b6-aa10-4827-aa82-1e9c3fcc419e\tdefault_edp_89c616b6-aa10-4827-aa82-1e9c3fcc419e\tHive\tdefault.media_demo_customer\n",
      "\n",
      "media_demo_customer\tedp_cli_edp_2c7f41ee-65bf-43ac-8bb4-5b6b59a55d75\tedp_cli_edp_2c7f41ee-65bf-43ac-8bb4-5b6b59a55d75\tHive\tdefault.media_demo_customer\n",
      "\n",
      "media_demo_customer\tdefault_edp_c78bef3e-5e71-4ef9-8760-5b23d4a02848\tdefault_edp_c78bef3e-5e71-4ef9-8760-5b23d4a02848\tHive\tdefault.media_demo_customer\n",
      "\n",
      "media_demo_movielog\tdefault_edp_f343a63a-4cc3-449c-a0a0-d4b50c3d0849\tdefault_edp_f343a63a-4cc3-449c-a0a0-d4b50c3d0849\tHive\tdefault.media_demo_movielog\n",
      "\n",
      "movie_genre_2\tdefault_edp_d17f911d-eea0-4788-af6f-615f483bc978\tdefault_edp_d17f911d-eea0-4788-af6f-615f483bc978\tHive\tdefault.movie_genre_2\n",
      "\n",
      "movie_genre\tdefault_edp_7d4c18a5-6f02-4067-9f63-91f950078b1e\tdefault_edp_7d4c18a5-6f02-4067-9f63-91f950078b1e\tHive\tdefault.movie_genre\n",
      "\n",
      "MT_RLS_RTN\tdefault_edp_db966636-a062-4ed5-8595-7d53cc448d50\tdefault_edp_db966636-a062-4ed5-8595-7d53cc448d50\tHive\tdefault.mt_rls_rtn\n",
      "\n",
      "media_3rdparty_activity\tdefault_edp_ae82f0cb-5a27-42c5-a423-c726f0f256c9\tdefault_edp_ae82f0cb-5a27-42c5-a423-c726f0f256c9\tHive\tdefault.media_3rdparty_activity\n",
      "\n",
      "Required_opzone\tdefault_edp_25e5118a-e631-4422-8249-666fe77858e4\tdefault_edp_25e5118a-e631-4422-8249-666fe77858e4\tHive\tdefault.required_opzone\n",
      "\n",
      "media_demo_movielog\tedp_cli_edp_1c5465a1-75bd-4f49-9e10-c552e2c0ff65\tedp_cli_edp_1c5465a1-75bd-4f49-9e10-c552e2c0ff65\tHive\tdefault.media_demo_movielog\n"
     ]
    }
   ],
   "source": [
    "for ds in dss:\n",
    "    print ds"
   ]
  },
  {
   "cell_type": "code",
   "execution_count": 47,
   "metadata": {
    "collapsed": false
   },
   "outputs": [],
   "source": [
    "# Load Requested Opzone List\n",
    "\n",
    "ds_opzone=dss.dataset('default_edp_25e5118a-e631-4422-8249-666fe77858e4')\n",
    "#ds.properties()\n",
    "\n",
    "# Data source to Spark DataFrame to Pandas DataFrame\n",
    "df_opzone = ds_opzone.to_spark()\n",
    "pdf_opzone = df_opzone.toPandas()\n",
    "\n",
    "# Convert to array\n",
    "#pdf_opzone = pdf_opzone[pdf_opzone.opzone_cde != 'ZHJ']\n",
    "pdf_opzone = pdf_opzone[pdf_opzone.opzone_cde == 'ZHK']\n",
    "opzones_list_tmp = pdf_opzone[['opzone_cde']]\n",
    "opzones_list = opzones_list_tmp['opzone_cde'] "
   ]
  },
  {
   "cell_type": "code",
   "execution_count": 60,
   "metadata": {
    "collapsed": false
   },
   "outputs": [],
   "source": [
    "# Load MT_RLS and MT_RTN Actual List\n",
    "\n",
    "ds_mt=dss.dataset('default_edp_db966636-a062-4ed5-8595-7d53cc448d50')\n",
    "#ds.properties()\n",
    "\n",
    "# Data source to Spark DataFrame to Pandas DataFrame\n",
    "df_mt = ds_mt.to_spark()\n",
    "pdf_mt = df_mt.toPandas()"
   ]
  },
  {
   "cell_type": "code",
   "execution_count": 61,
   "metadata": {
    "collapsed": false
   },
   "outputs": [],
   "source": [
    "import datetime\n",
    "def date_convert_fn(x):\n",
    "    return datetime.datetime.fromtimestamp(x/1000.0).strftime('%Y-%m-%d')\n",
    "\n",
    "pdf_mt['date'] = pdf_mt.apply(lambda row: date_convert_fn(row['date']), axis=1)"
   ]
  },
  {
   "cell_type": "code",
   "execution_count": 62,
   "metadata": {
    "collapsed": false
   },
   "outputs": [
    {
     "data": {
      "text/html": [
       "<div>\n",
       "<table border=\"1\" class=\"dataframe\">\n",
       "  <thead>\n",
       "    <tr style=\"text-align: right;\">\n",
       "      <th></th>\n",
       "      <th>PRIMARY_KEY</th>\n",
       "      <th>eqp_size_type</th>\n",
       "      <th>mt_rls</th>\n",
       "      <th>mt_rtn</th>\n",
       "      <th>opzone_cde</th>\n",
       "    </tr>\n",
       "    <tr>\n",
       "      <th>date</th>\n",
       "      <th></th>\n",
       "      <th></th>\n",
       "      <th></th>\n",
       "      <th></th>\n",
       "      <th></th>\n",
       "    </tr>\n",
       "  </thead>\n",
       "  <tbody>\n",
       "    <tr>\n",
       "      <th>2011-12-31</th>\n",
       "      <td>0-0-0</td>\n",
       "      <td>20GP</td>\n",
       "      <td>26</td>\n",
       "      <td>12</td>\n",
       "      <td>ZAA</td>\n",
       "    </tr>\n",
       "    <tr>\n",
       "      <th>2012-01-07</th>\n",
       "      <td>0-0-1</td>\n",
       "      <td>20GP</td>\n",
       "      <td>19</td>\n",
       "      <td>3</td>\n",
       "      <td>ZAA</td>\n",
       "    </tr>\n",
       "    <tr>\n",
       "      <th>2012-01-14</th>\n",
       "      <td>0-0-2</td>\n",
       "      <td>20GP</td>\n",
       "      <td>13</td>\n",
       "      <td>7</td>\n",
       "      <td>ZAA</td>\n",
       "    </tr>\n",
       "    <tr>\n",
       "      <th>2012-01-21</th>\n",
       "      <td>0-0-3</td>\n",
       "      <td>20GP</td>\n",
       "      <td>10</td>\n",
       "      <td>13</td>\n",
       "      <td>ZAA</td>\n",
       "    </tr>\n",
       "    <tr>\n",
       "      <th>2012-01-28</th>\n",
       "      <td>0-0-4</td>\n",
       "      <td>20GP</td>\n",
       "      <td>43</td>\n",
       "      <td>7</td>\n",
       "      <td>ZAA</td>\n",
       "    </tr>\n",
       "  </tbody>\n",
       "</table>\n",
       "</div>"
      ],
      "text/plain": [
       "           PRIMARY_KEY eqp_size_type  mt_rls  mt_rtn opzone_cde\n",
       "date                                                           \n",
       "2011-12-31       0-0-0          20GP      26      12        ZAA\n",
       "2012-01-07       0-0-1          20GP      19       3        ZAA\n",
       "2012-01-14       0-0-2          20GP      13       7        ZAA\n",
       "2012-01-21       0-0-3          20GP      10      13        ZAA\n",
       "2012-01-28       0-0-4          20GP      43       7        ZAA"
      ]
     },
     "execution_count": 62,
     "metadata": {},
     "output_type": "execute_result"
    }
   ],
   "source": [
    "pdf_mt.set_index(keys=['date'], drop=True,inplace=True)\n",
    "pdf_mt.index=pd.to_datetime(pdf_mt.index)\n",
    "pdf_mt.head(5)"
   ]
  },
  {
   "cell_type": "code",
   "execution_count": 70,
   "metadata": {
    "collapsed": false,
    "scrolled": true
   },
   "outputs": [],
   "source": [
    "# ARIMA Time Series\n",
    "for opzone in opzones_list:\n",
    "    sizetype = '40GP'\n",
    "    df = pdf_mt[ (pdf_mt.opzone_cde==opzone) & (pdf_mt.eqp_size_type == sizetype) ]\n",
    "    df_RLS = df[['mt_rls']]\n",
    "    df_RTN = df[['mt_rtn']]\n",
    "    df_RLS.sort_index(inplace=True, ascending=True)\n",
    "    df_RTN.sort_index( inplace=True, ascending=True)\n",
    "    df_RLS_TS = df_RLS['mt_rls'] \n",
    "    df_RTN_TS = df_RTN['mt_rtn']\n",
    "    result = pd.DataFrame(columns=('1wk', '2wk', '3wk','4wk', '5wk'))\n",
    "    \n",
    "    for n in range(0,53):\n",
    "        y = df_RTN_TS[0 :-53 + n]\n",
    "\n",
    "        try:\n",
    "            res = ARIMA(y, order=(2, 1, 2)).fit(trend=\"nc\")\n",
    "        except:\n",
    "            try:\n",
    "                res = ARIMA(y, order=(2, 1, 1)).fit(trend=\"nc\")\n",
    "            except:\n",
    "                try:\n",
    "                    res = ARIMA(y, order=(1, 1, 2)).fit(trend=\"nc\")\n",
    "                except:\n",
    "                    try:\n",
    "                        res = ARIMA(y, order=(1, 1, 1)).fit(trend=\"nc\")\n",
    "                    except:\n",
    "                        print \"invertiable error occured.\"\n",
    "    \n",
    "        predication = res.forecast(5)[0]\n",
    "        result.loc[n] = [predication[0],predication[1],predication[2],predication[3],predication[4]] \n",
    "        \n",
    "    result['OPZONE_CODE'] = opzone\n",
    "    result['SIZE_TYPE'] = sizetype\n",
    "    df_temp = pd.DataFrame(df_RTN_TS[-53:])\n",
    "    result.index = df_temp.index\n",
    "    df_temp1 = pd.concat([result, df_temp], axis=1)\n",
    "    df_temp1['2wk'] = df_temp1['2wk'].shift(1)\n",
    "    df_temp1['3wk'] = df_temp1['2wk'].shift(2)\n",
    "    df_temp1['4wk'] = df_temp1['2wk'].shift(3)\n",
    "    df_temp1['5wk'] = df_temp1['2wk'].shift(4)\n",
    "    df_temp1.head\n",
    "    #df_temp1.to_csv('./dataout/export_arima_40GP_MTRTN.csv', mode='a', header=False)\n"
   ]
  },
  {
   "cell_type": "code",
   "execution_count": 71,
   "metadata": {
    "collapsed": false
   },
   "outputs": [
    {
     "data": {
      "text/html": [
       "<div>\n",
       "<table border=\"1\" class=\"dataframe\">\n",
       "  <thead>\n",
       "    <tr style=\"text-align: right;\">\n",
       "      <th></th>\n",
       "      <th>1wk</th>\n",
       "      <th>2wk</th>\n",
       "      <th>3wk</th>\n",
       "      <th>4wk</th>\n",
       "      <th>5wk</th>\n",
       "      <th>OPZONE_CODE</th>\n",
       "      <th>SIZE_TYPE</th>\n",
       "      <th>mt_rtn</th>\n",
       "    </tr>\n",
       "    <tr>\n",
       "      <th>date</th>\n",
       "      <th></th>\n",
       "      <th></th>\n",
       "      <th></th>\n",
       "      <th></th>\n",
       "      <th></th>\n",
       "      <th></th>\n",
       "      <th></th>\n",
       "      <th></th>\n",
       "    </tr>\n",
       "  </thead>\n",
       "  <tbody>\n",
       "    <tr>\n",
       "      <th>2015-09-26</th>\n",
       "      <td>337.748485</td>\n",
       "      <td>NaN</td>\n",
       "      <td>NaN</td>\n",
       "      <td>NaN</td>\n",
       "      <td>NaN</td>\n",
       "      <td>ZHK</td>\n",
       "      <td>40GP</td>\n",
       "      <td>253</td>\n",
       "    </tr>\n",
       "    <tr>\n",
       "      <th>2015-10-03</th>\n",
       "      <td>325.323779</td>\n",
       "      <td>339.276865</td>\n",
       "      <td>NaN</td>\n",
       "      <td>NaN</td>\n",
       "      <td>NaN</td>\n",
       "      <td>ZHK</td>\n",
       "      <td>40GP</td>\n",
       "      <td>324</td>\n",
       "    </tr>\n",
       "    <tr>\n",
       "      <th>2015-10-10</th>\n",
       "      <td>329.124398</td>\n",
       "      <td>329.339106</td>\n",
       "      <td>NaN</td>\n",
       "      <td>NaN</td>\n",
       "      <td>NaN</td>\n",
       "      <td>ZHK</td>\n",
       "      <td>40GP</td>\n",
       "      <td>326</td>\n",
       "    </tr>\n",
       "    <tr>\n",
       "      <th>2015-10-17</th>\n",
       "      <td>323.829790</td>\n",
       "      <td>324.350703</td>\n",
       "      <td>339.276865</td>\n",
       "      <td>NaN</td>\n",
       "      <td>NaN</td>\n",
       "      <td>ZHK</td>\n",
       "      <td>40GP</td>\n",
       "      <td>356</td>\n",
       "    </tr>\n",
       "    <tr>\n",
       "      <th>2015-10-24</th>\n",
       "      <td>326.362056</td>\n",
       "      <td>320.983420</td>\n",
       "      <td>329.339106</td>\n",
       "      <td>339.276865</td>\n",
       "      <td>NaN</td>\n",
       "      <td>ZHK</td>\n",
       "      <td>40GP</td>\n",
       "      <td>268</td>\n",
       "    </tr>\n",
       "  </tbody>\n",
       "</table>\n",
       "</div>"
      ],
      "text/plain": [
       "                   1wk         2wk         3wk         4wk  5wk OPZONE_CODE  \\\n",
       "date                                                                          \n",
       "2015-09-26  337.748485         NaN         NaN         NaN  NaN         ZHK   \n",
       "2015-10-03  325.323779  339.276865         NaN         NaN  NaN         ZHK   \n",
       "2015-10-10  329.124398  329.339106         NaN         NaN  NaN         ZHK   \n",
       "2015-10-17  323.829790  324.350703  339.276865         NaN  NaN         ZHK   \n",
       "2015-10-24  326.362056  320.983420  329.339106  339.276865  NaN         ZHK   \n",
       "\n",
       "           SIZE_TYPE  mt_rtn  \n",
       "date                          \n",
       "2015-09-26      40GP     253  \n",
       "2015-10-03      40GP     324  \n",
       "2015-10-10      40GP     326  \n",
       "2015-10-17      40GP     356  \n",
       "2015-10-24      40GP     268  "
      ]
     },
     "execution_count": 71,
     "metadata": {},
     "output_type": "execute_result"
    }
   ],
   "source": [
    "df_temp1.head(5)"
   ]
  },
  {
   "cell_type": "code",
   "execution_count": 72,
   "metadata": {
    "collapsed": false
   },
   "outputs": [],
   "source": [
    "# Convert the output Pandas DataFrame to Spark DataFrame\n",
    "sdf = sqlContext.createDataFrame(df_temp1)"
   ]
  },
  {
   "cell_type": "code",
   "execution_count": 73,
   "metadata": {
    "collapsed": true
   },
   "outputs": [],
   "source": [
    "# Persist the Spark DataFrame into new Hive table\n",
    "sdf.write.saveAsTable('default.ARIMA_ZHK_40GP_MTRTN')"
   ]
  },
  {
   "cell_type": "code",
   "execution_count": 74,
   "metadata": {
    "collapsed": false
   },
   "outputs": [
    {
     "name": "stdout",
     "output_type": "stream",
     "text": [
      "root\n",
      " |-- 1wk: double (nullable = true)\n",
      " |-- 2wk: double (nullable = true)\n",
      " |-- 3wk: double (nullable = true)\n",
      " |-- 4wk: double (nullable = true)\n",
      " |-- 5wk: double (nullable = true)\n",
      " |-- OPZONE_CODE: string (nullable = true)\n",
      " |-- SIZE_TYPE: string (nullable = true)\n",
      " |-- mt_rtn: long (nullable = true)\n",
      "\n"
     ]
    }
   ],
   "source": [
    "sdf.printSchema()"
   ]
  },
  {
   "cell_type": "code",
   "execution_count": null,
   "metadata": {
    "collapsed": true
   },
   "outputs": [],
   "source": []
  }
 ],
 "metadata": {
  "kernelspec": {
   "display_name": "Python 2",
   "language": "python",
   "name": "python2"
  },
  "language_info": {
   "codemirror_mode": {
    "name": "ipython",
    "version": 2
   },
   "file_extension": ".py",
   "mimetype": "text/x-python",
   "name": "python",
   "nbconvert_exporter": "python",
   "pygments_lexer": "ipython2",
   "version": "2.7.11"
  }
 },
 "nbformat": 4,
 "nbformat_minor": 0
}
